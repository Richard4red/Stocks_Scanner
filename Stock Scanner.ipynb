{
 "cells": [
  {
   "cell_type": "code",
   "execution_count": 4,
   "id": "37fd3d9a",
   "metadata": {},
   "outputs": [],
   "source": [
    "import pandas as pd\n",
    "import Financial_Data_Scraping as fds"
   ]
  },
  {
   "cell_type": "code",
   "execution_count": 5,
   "id": "55393f9a",
   "metadata": {},
   "outputs": [],
   "source": [
    "tickers = ['AMN','TMO','ISRG','ALRM','ALGN']"
   ]
  },
  {
   "cell_type": "code",
   "execution_count": null,
   "id": "68b3095b",
   "metadata": {
    "scrolled": true
   },
   "outputs": [
    {
     "name": "stdout",
     "output_type": "stream",
     "text": [
      "Using the Proxy: 135.181.14.45:5959\n",
      "Using the Proxy: 200.105.215.22:33630\n",
      "Using the Proxy: 186.121.235.220:8080\n",
      "Using the Proxy: 34.98.65.22:5222\n",
      "Finished Getting Information about AMN\n",
      "Checking if row has atleast 4 number greater than 10\n",
      "[True, True, True, True, True]\n",
      "-------------------------------------------------------------\n",
      "Pay attention to AMN\n",
      "Finished Calculations with AMN\n",
      "Finished Modification with : AMN\n",
      "-------------------------------------------------------------\n",
      "Using the Proxy: 135.181.14.45:5959\n",
      "Using the Proxy: 200.105.215.22:33630\n",
      "Using the Proxy: 186.121.235.220:8080\n",
      "Using the Proxy: 34.98.65.22:5222\n",
      "Finished Getting Information about TMO\n",
      "Checking if row has atleast 4 number greater than 10\n",
      "[True, True, True, True, True]\n",
      "-------------------------------------------------------------\n",
      "Pay attention to TMO\n",
      "Finished Calculations with TMO\n",
      "Finished Modification with : TMO\n",
      "-------------------------------------------------------------\n",
      "Using the Proxy: 135.181.14.45:5959\n",
      "Using the Proxy: 200.105.215.22:33630\n",
      "Using the Proxy: 186.121.235.220:8080\n",
      "Using the Proxy: 34.98.65.22:5222\n",
      "Finished Getting Information about ISRG\n",
      "Checking if row has atleast 4 number greater than 10\n",
      "[False, False, True, False, True]\n",
      "-------------------------------------------------------------\n",
      "Finished Calculations with ISRG\n",
      "Finished Modification with : ISRG\n",
      "-------------------------------------------------------------\n",
      "Using the Proxy: 135.181.14.45:5959\n",
      "Using the Proxy: 200.105.215.22:33630\n",
      "Using the Proxy: 186.121.235.220:8080\n",
      "Using the Proxy: 34.98.65.22:5222\n",
      "Finished Getting Information about ALRM\n",
      "We can't calculate rate values because this company has negative values OR not enough years to work with\n",
      "Move on to the Next Company this company not good for long term investment right now\n",
      "Using the Proxy: 135.181.14.45:5959\n",
      "Using the Proxy: 200.105.215.22:33630\n",
      "Using the Proxy: 186.121.235.220:8080\n",
      "Using the Proxy: 34.98.65.22:5222\n"
     ]
    }
   ],
   "source": [
    "for ticker in tickers:\n",
    "    fds.company_evaluation(ticker)\n",
    "    try:\n",
    "        fds.company_evaluation_Modification(ticker)\n",
    "    except:\n",
    "        continue"
   ]
  },
  {
   "cell_type": "code",
   "execution_count": null,
   "id": "3c37be5b",
   "metadata": {},
   "outputs": [],
   "source": []
  }
 ],
 "metadata": {
  "kernelspec": {
   "display_name": "Python 3 (ipykernel)",
   "language": "python",
   "name": "python3"
  },
  "language_info": {
   "codemirror_mode": {
    "name": "ipython",
    "version": 3
   },
   "file_extension": ".py",
   "mimetype": "text/x-python",
   "name": "python",
   "nbconvert_exporter": "python",
   "pygments_lexer": "ipython3",
   "version": "3.10.9"
  }
 },
 "nbformat": 4,
 "nbformat_minor": 5
}
