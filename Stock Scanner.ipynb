{
 "cells": [
  {
   "cell_type": "code",
   "execution_count": 1,
   "id": "37fd3d9a",
   "metadata": {},
   "outputs": [],
   "source": [
    "import pandas as pd\n",
    "import Financial_Data_Scraping as fds"
   ]
  },
  {
   "cell_type": "code",
   "execution_count": 2,
   "id": "55393f9a",
   "metadata": {},
   "outputs": [],
   "source": [
    "tickers = ['MED']"
   ]
  },
  {
   "cell_type": "code",
   "execution_count": 3,
   "id": "68b3095b",
   "metadata": {
    "scrolled": false
   },
   "outputs": [
    {
     "name": "stdout",
     "output_type": "stream",
     "text": [
      "Using the Proxy: 135.181.14.45:5959\n",
      "Using the Proxy: 200.105.215.22:33630\n",
      "Using the Proxy: 186.121.235.220:8080\n",
      "Using the Proxy: 34.98.65.22:5222\n",
      "Finished Getting Information about MED\n",
      "Checking if row has atleast 4 number greater than 10\n",
      "[False, True, True, True, True]\n",
      "-------------------------------------------------------------\n",
      "Finished Calculations with MED\n",
      "Finished Modification with : MED\n",
      "-------------------------------------------------------------\n"
     ]
    }
   ],
   "source": [
    "for ticker in tickers:\n",
    "    fds.company_evaluation(ticker)\n",
    "    try:\n",
    "        fds.company_evaluation_Modification(ticker)\n",
    "    except:\n",
    "        continue"
   ]
  },
  {
   "cell_type": "code",
   "execution_count": null,
   "id": "3c37be5b",
   "metadata": {},
   "outputs": [],
   "source": []
  }
 ],
 "metadata": {
  "kernelspec": {
   "display_name": "Python 3 (ipykernel)",
   "language": "python",
   "name": "python3"
  },
  "language_info": {
   "codemirror_mode": {
    "name": "ipython",
    "version": 3
   },
   "file_extension": ".py",
   "mimetype": "text/x-python",
   "name": "python",
   "nbconvert_exporter": "python",
   "pygments_lexer": "ipython3",
   "version": "3.10.9"
  }
 },
 "nbformat": 4,
 "nbformat_minor": 5
}
